{
 "cells": [
  {
   "cell_type": "markdown",
   "metadata": {},
   "source": [
    "解析氨基酸属性文件：\n",
    "\n",
    "从给定的 AA531properties.txt 文件中解析氨基酸属性数据，构建一个包含531种理化属性的字典。文件的格式是每行一个氨基酸，由氨基酸名称和对应的属性值组成，以制表符分隔。忽略文件的头部行。\n",
    "蛋白质氨基酸序列编码：\n",
    "\n",
    "从给定的 ACEtriPeptidesSequencesActivities.txt 文件中解析蛋白质氨基酸序列和对应的活性值。文件的格式是每行包含氨基酸序列和相应的活性值，由制表符分隔。\n",
    "使用解析得到的氨基酸属性字典，将氨基酸序列编码为特征矩阵。每个氨基酸对应531个属性，考虑序列长度为3的情况。\n",
    "处理非规范氨基酸：\n",
    "\n",
    "如果序列中的氨基酸不在氨基酸属性字典中，将其替换为全为零的531个属性。在替换时，输出警告信息。\n",
    "保存结果：\n",
    "\n",
    "将编码后的特征矩阵和活性值合并，并以制表符分隔的形式保存到名为 result.txt 的文件中。\n",
    "提示：\n",
    "\n",
    "#请使用 NumPy 库来处理数组和矩阵。\n",
    "#考虑对非规范氨基酸的处理，确保程序能够正确处理各种输入情况。\n",
    "#可以添加命令行参数来接收输入文件名、输出文件名以及其他必要的参数。"
   ]
  },
  {
   "cell_type": "markdown",
   "metadata": {},
   "source": [
    "#读取氨基酸属性文件，转换为字典"
   ]
  },
  {
   "cell_type": "markdown",
   "metadata": {},
   "source": [
    "<!-- 解析氨基酸属性文件：\n",
    "\n",
    "从给定的 AA531properties.txt 文件中解析氨基酸属性数据，构建一个包含531种理化属性的字典。文件的格式是每行一个氨基酸，由氨基酸名称和对应的属性值组成，以制表符分隔。忽略文件的头部行。\n",
    "蛋白质氨基酸序列编码：\n",
    "\n",
    "从给定的 ACEtriPeptidesSequencesActivities.txt 文件中解析蛋白质氨基酸序列和对应的活性值。文件的格式是每行包含氨基酸序列和相应的活性值，由制表符分隔。\n",
    "使用解析得到的氨基酸属性字典，将氨基酸序列编码为特征矩阵。每个氨基酸对应531个属性，考虑序列长度为3的情况。\n",
    "处理非规范氨基酸：\n",
    "\n",
    "如果序列中的氨基酸不在氨基酸属性字典中，将其替换为全为零的531个属性。在替换时，输出警告信息。\n",
    "保存结果：\n",
    "\n",
    "将编码后的特征矩阵和活性值合并，并以制表符分隔的形式保存到名为 result.txt 的文件中。\n",
    "提示：\n",
    "\n",
    "请使用 NumPy 库来处理数组和矩阵。\n",
    "考虑对非规范氨基酸的处理，确保程序能够正确处理各种输入情况。\n",
    "可以添加命令行参数来接收输入文件名、输出文件名以及其他必要的参数。 -->"
   ]
  },
  {
   "cell_type": "code",
   "execution_count": null,
   "metadata": {},
   "outputs": [],
   "source": [
    "import sys\n",
    "import numpy as np\n",
    "import pandas as pd  \n",
    "def makeAA531Dict(AA531FileName):\n",
    "    filename = AA531FileName\n",
    "    df = pd.read_csv(filename, delimiter='\\t', header=None, skiprows=1)\n",
    "    AA531Dict = df.set_index(0).T.to_dict('list')#选取第一列作为索引，‘.T’转置，‘to_dict('list')’将其转换为字典。其中字典的值是一个列表，包含每一列的值\n",
    "    return AA531Dict"
   ]
  },
  {
   "cell_type": "code",
   "execution_count": null,
   "metadata": {},
   "outputs": [],
   "source": [
    "def file2matrix(AASeqFileName,seqlength,AA531Dict):\n",
    "    filename = AASeqFileName\n",
    "    df = pd.read_csv(AASeqFileName,sep=\"\\t\",header=None)\n",
    "    #得到行数numberOFlines，开辟内存数组returnMat，同时准备一个二维数组储存三肽数字标签Y\n",
    "    numberOFlines = len(df)\n",
    "    seqlength = seqlength\n",
    "    returnMat = np.zeros((numberOFlines,seqlength*531))\n",
    "    Y = np.zeros((numberOFlines,1))\n",
    "    #遍历每个三肽，与字典比对，添加到一个新的列表中\n",
    "    for lineNum in range(numberOFlines):\n",
    "        Y[lineNum] = float(df.iloc[lineNum,1])\n",
    "        feaVec = []\n",
    "        for AA in df.iloc[lineNum,0]:\n",
    "            if AA in AA531Dict.keys():\n",
    "                feaVec.extend(AA531Dict[AA])\n",
    "            else:\n",
    "                print('Warning: nonregular amino acid found! Coding \"%s\" in \"%s\" (seqId: %d) with 531 zeros.' % (AA, AAseq, lineNum))\n",
    "                feaVec.extend([0.0]*531)\n",
    "                Y[lineNum] = -1\n",
    "        returnMat[lineNum,:] = np.array(feaVec)\n",
    "        lineNum += 1\n",
    "    return Y,returnMat,lineNum\n",
    "if __name__ == '__main__':\n",
    "   AASeqFileName = sys.argv[1]\n",
    "   AA531FileName = sys.argv[2]\n",
    "   seqLength = int(sys.argv[3])\n",
    "   outputFileName = sys.argv[4]\n",
    "   AA531Dict = makeAA531Dict(AA531FileName)\n",
    "   Y, AA531Mat, SeqNum = file2matrix(AASeqFileName, seqLength, AA531Dict)\n",
    "   np.savetxt(outputFileName, np.hstack((Y, AA531Mat)), fmt='%g', delimiter='\\t')\n",
    "   print('The number of sequences is %d. Matrix of features is saved in %s' % (SeqNum, outputFileName))"
   ]
  },
  {
   "cell_type": "code",
   "execution_count": null,
   "metadata": {},
   "outputs": [],
   "source": []
  }
 ],
 "metadata": {
  "kernelspec": {
   "display_name": "Python 3 (ipykernel)",
   "language": "python",
   "name": "python3"
  },
  "language_info": {
   "codemirror_mode": {
    "name": "ipython",
    "version": 3
   },
   "file_extension": ".py",
   "mimetype": "text/x-python",
   "name": "python",
   "nbconvert_exporter": "python",
   "pygments_lexer": "ipython3",
   "version": "3.8.17"
  }
 },
 "nbformat": 4,
 "nbformat_minor": 5
}
